{
  "nbformat": 4,
  "nbformat_minor": 0,
  "metadata": {
    "colab": {
      "provenance": []
    },
    "kernelspec": {
      "name": "python3",
      "display_name": "Python 3"
    },
    "language_info": {
      "name": "python"
    }
  },
  "cells": [
    {
      "cell_type": "code",
      "execution_count": null,
      "metadata": {
        "id": "E2rKpHqo56Td"
      },
      "outputs": [],
      "source": []
    },
    {
      "cell_type": "markdown",
      "source": [
        "Lab Task 1"
      ],
      "metadata": {
        "id": "0trvMM3n6mxy"
      }
    },
    {
      "cell_type": "code",
      "source": [
        "list1 = [int(x) for x in input(\"Enter values for the first list separated by spaces: \").split()]\n",
        "list2 = [int(x) for x in input(\"Enter values for the second list separated by spaces: \").split()]\n",
        "\n",
        "merged_list = sorted(list1 + list2)\n",
        "print(\"Merged and sorted list:\", merged_list)"
      ],
      "metadata": {
        "id": "tGTmWuZw6qcS"
      },
      "execution_count": null,
      "outputs": []
    },
    {
      "cell_type": "markdown",
      "source": [
        "Lab Task 2"
      ],
      "metadata": {
        "id": "pgxKF9Hy7qWo"
      }
    },
    {
      "cell_type": "code",
      "source": [
        "list1 = eval(input(\"Enter the first list: \"))\n",
        "list2 = eval(input(\"Enter the second list: \"))\n",
        "\n",
        "merged_list = list1 + list2\n",
        "\n",
        "smallest = merged_list[0]\n",
        "largest = merged_list[0]\n",
        "\n",
        "for num in merged_list:\n",
        "    if num < smallest:\n",
        "        smallest = num\n",
        "    if num > largest:\n",
        "        largest = num\n"
      ],
      "metadata": {
        "id": "kJrjBt_I7sTm"
      },
      "execution_count": null,
      "outputs": []
    },
    {
      "cell_type": "markdown",
      "source": [
        "Lab Task 3"
      ],
      "metadata": {
        "id": "tqTE502M8kk5"
      }
    },
    {
      "cell_type": "code",
      "source": [
        "from math import sin, cos, pi\n",
        "import numpy as np\n",
        "import matplotlib.pyplot as plt\n",
        "\n",
        "def approximate_derivative(h):\n",
        "\n",
        "    x_values = np.arange(-pi, pi, h)\n",
        "\n",
        "\n",
        "    approx_derivatives = [(sin(x + h) - sin(x)) / h for x in x_values]\n",
        "\n",
        "\n",
        "    exact_derivatives = [cos(x) for x in x_values]\n",
        "\n",
        "\n",
        "    print(f\"\\nResults for h = {h}:\")\n",
        "    print(f\"{'x':>10} {'sin(x)':>10} {'cos(x)':>10} {'Approx':>10} {'Error':>10}\")\n",
        "    for x, approx, exact in zip(x_values, approx_derivatives, exact_derivatives):\n",
        "        print(f\"{x:10.4f} {sin(x):10.4f} {exact:10.4f} {approx:10.4f} {abs(approx - exact):10.4f}\")\n",
        "\n",
        "    return x_values, approx_derivatives, exact_derivatives\n",
        "\n",
        "\n",
        "def plot_results(x_values, approx_derivatives, exact_derivatives, h):\n",
        "    plt.plot(x_values, approx_derivatives, label=f'Approx Derivative (h={h})', linestyle='--')\n",
        "    plt.plot(x_values, exact_derivatives, label='Exact Derivative (cos(x))', linestyle='-')\n",
        "    plt.title(f'Comparison of Derivatives for h={h}')\n",
        "    plt.xlabel('x')\n",
        "    plt.ylabel('Derivative')\n",
        "    plt.legend()\n",
        "    plt.grid(True)\n",
        "    plt.show()\n",
        "\n",
        "for h in [0.001, 0.01, 0.1]:\n",
        "    x_values, approx_derivatives, exact_derivatives = approximate_derivative(h)\n",
        "    plot_results(x_values, approx_derivatives, exact_derivatives, h)"
      ],
      "metadata": {
        "id": "vduNnqov8mrt"
      },
      "execution_count": null,
      "outputs": []
    },
    {
      "cell_type": "markdown",
      "source": [
        "Lab Task 4"
      ],
      "metadata": {
        "id": "Re4nIiKa9epj"
      }
    },
    {
      "cell_type": "code",
      "source": [
        "birthdays = {\n",
        "    \"Albert Einstein\": \"03/14/1879\",\n",
        "    \"Benjamin Franklin\": \"01/17/1706\",\n",
        "    \"Ada Lovelace\": \"12/10/1815\"\n",
        "}\n",
        "\n",
        "print(\"Welcome to the birthday dictionary. We know the birthdays of:\")\n",
        "for name in birthdays:\n",
        "    print(name)\n",
        "\n",
        "name = input(\"Who's birthday do you want to look up? \")\n",
        "\n",
        "if name in birthdays:\n",
        "    print(f\"{name}'s birthday is {birthdays[name]}.\")\n",
        "else:\n",
        "    print(\"Sorry, we don't have birthday information for that person.\")\n",
        "\n"
      ],
      "metadata": {
        "id": "C1FOpzD69gMy"
      },
      "execution_count": null,
      "outputs": []
    },
    {
      "cell_type": "markdown",
      "source": [
        "Lab Task 5"
      ],
      "metadata": {
        "id": "YgfsFnyA9zvp"
      }
    },
    {
      "cell_type": "code",
      "source": [
        "sample_dict = {\n",
        "    \"name\": \"Kelly\",\n",
        "    \"age\": 25,\n",
        "    \"salary\": 8000,\n",
        "    \"city\": \"New york\"\n",
        "}\n",
        "\n",
        "# Keys to extract\n",
        "keys = [\"name\", \"salary\"]\n",
        "\n",
        "# Extracting keys manually\n",
        "new_dict = {}\n",
        "for key in keys:\n",
        "    if key in sample_dict:\n",
        "        new_dict[key] = sample_dict[key]\n",
        "\n",
        "print(new_dict)"
      ],
      "metadata": {
        "id": "cVZ3jDKR92S2"
      },
      "execution_count": null,
      "outputs": []
    }
  ]
}