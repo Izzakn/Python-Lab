{
  "nbformat": 4,
  "nbformat_minor": 0,
  "metadata": {
    "colab": {
      "provenance": []
    },
    "kernelspec": {
      "name": "python3",
      "display_name": "Python 3"
    },
    "language_info": {
      "name": "python"
    }
  },
  "cells": [
    {
      "cell_type": "code",
      "execution_count": null,
      "metadata": {
        "id": "pQnCLx99CSDW"
      },
      "outputs": [],
      "source": []
    },
    {
      "cell_type": "markdown",
      "source": [
        "creating a list"
      ],
      "metadata": {
        "id": "x43XmY2oCjSy"
      }
    },
    {
      "cell_type": "code",
      "source": [
        "# Python program to demonstrate\n",
        "# Creation of List\n",
        "# Creating a List\n",
        "List = []\n",
        "print(\"Blank List: \")\n",
        "print(List)\n",
        "# Creating a List of numbers\n",
        "List = [10, 20, 14]\n",
        "print(\"\\nList of numbers: \")\n",
        "print(List)\n",
        "# Creating a List of strings and accessing\n",
        "# using index\n",
        "List = [\"Geeks\", \"For\", \"Geeks\"]\n",
        "print(\"\\nList Items: \")\n",
        "print(List[0])\n",
        "print(List[2])\n",
        "# Creating a Multi-Dimensional List\n",
        "# (By Nesting a list inside a List)\n",
        "List = [['Geeks', 'For'], ['Geeks']]\n",
        "print(\"\\nMulti-Dimensional List: \")\n",
        "print(List)"
      ],
      "metadata": {
        "id": "YdDBmUojCl4M"
      },
      "execution_count": null,
      "outputs": []
    },
    {
      "cell_type": "markdown",
      "source": [
        "Creating a list with multiple distinct or duplicate elements"
      ],
      "metadata": {
        "id": "UTBQbDKQCm1p"
      }
    },
    {
      "cell_type": "code",
      "source": [
        "# Creating a List with\n",
        "# the use of Numbers\n",
        "# (Having duplicate values)\n",
        "List = [1, 2, 4, 4, 3, 3, 3, 6, 5]\n",
        "print(\"\\nList with the use of Numbers: \")\n",
        "print(List)\n",
        "# Creating a List with\n",
        "# mixed type of values\n",
        "# (Having numbers and strings)\n",
        "List = [1, 2, 'Geeks', 4, 'For', 6, 'Geeks']\n",
        "print(\"\\nList with the use of Mixed Values: \")\n",
        "print(List)\n",
        "List1 = []\n",
        "print(len(List1))\n",
        "# Creating a List of numbers\n",
        "List2 = [10, 20, 14]\n",
        "print(len(List2))"
      ],
      "metadata": {
        "id": "PQ3a12vyCrK-"
      },
      "execution_count": null,
      "outputs": []
    },
    {
      "cell_type": "markdown",
      "source": [
        "Adding Elements to a List"
      ],
      "metadata": {
        "id": "fWYEfO3xC_Kw"
      }
    },
    {
      "cell_type": "code",
      "source": [
        "# Python program to demonstrate\n",
        "# Addition of elements in a List\n",
        "# Creating a List\n",
        "List = []\n",
        "print(\"Initial blank List: \")\n",
        "print(List)\n",
        "# Addition of Elements\n",
        "# in the List\n",
        "List.append(1)\n",
        "List.append(2)\n",
        "List.append(4)\n",
        "print(\"\\nList after Addition of Three elements: \")\n",
        "print(List)\n",
        "# Adding elements to the List\n",
        "# using Iterator\n",
        "for i in range(1, 4):\n",
        " List.append(i)\n",
        "print(\"\\nList after Addition of elements from 1-3: \")\n",
        "print(List)\n",
        "# Adding Tuples to the List\n",
        "List.append((5, 6))\n",
        "print(\"\\nList after Addition of a Tuple: \")\n",
        "print(List)\n",
        "# Addition of List to a List\n",
        "List2 = ['For', 'Geeks']\n",
        "List.append(List2)\n",
        "print(\"\\nList after Addition of a List: \")\n",
        "print(List)"
      ],
      "metadata": {
        "id": "ZIlonoP7C4NK"
      },
      "execution_count": null,
      "outputs": []
    },
    {
      "cell_type": "markdown",
      "source": [
        "Using insert() method"
      ],
      "metadata": {
        "id": "tST7ob7XDOR5"
      }
    },
    {
      "cell_type": "code",
      "source": [
        "# Python program to demonstrate\n",
        "# Addition of elements in a List\n",
        "# Creating a List\n",
        "List = [1,2,3,4]\n",
        "print(\"Initial List: \")\n",
        "print(List)\n",
        "# Addition of Element at\n",
        "# specific Position\n",
        "# (using Insert Method)\n",
        "List.insert(3, 12)\n",
        "List.insert(0, 'Geeks')\n",
        "print(\"\\nList after performing Insert Operation: \")\n",
        "print(List)"
      ],
      "metadata": {
        "id": "Ai131wS-DPAa"
      },
      "execution_count": null,
      "outputs": []
    },
    {
      "cell_type": "markdown",
      "source": [
        "Using extend() method"
      ],
      "metadata": {
        "id": "5htHt84xDSic"
      }
    },
    {
      "cell_type": "code",
      "source": [
        "# Python program to demonstrate\n",
        "# Addition of elements in a List\n",
        "# Creating a List\n",
        "List = [1, 2, 3, 4]\n",
        "print(\"Initial List: \")\n",
        "print(List)\n",
        "# Addition of multiple elements\n",
        "# to the List at the end\n",
        "# (using Extend Method)\n",
        "List.extend([8, 'Geeks', 'Always'])\n",
        "print(\"\\nList after performing Extend Operation: \")\n",
        "print(List)\n",
        "Output:\n",
        "Initial List:\n",
        "[1, 2, 3, 4]\n",
        "List after performing Extend Operation:\n",
        "[1, 2, 3, 4, 8, 'Geeks', 'Always']"
      ],
      "metadata": {
        "id": "p8MeVvknDXsZ"
      },
      "execution_count": null,
      "outputs": []
    },
    {
      "cell_type": "markdown",
      "source": [
        "Accessing elements from the List"
      ],
      "metadata": {
        "id": "InypG7a2DaJG"
      }
    },
    {
      "cell_type": "code",
      "source": [
        "# Python program to demonstrate\n",
        "# accessing of element from list\n",
        "# Creating a List with\n",
        "# the use of multiple values\n",
        "List = [\"Geeks\", \"For\", \"Geeks\"]\n",
        "# accessing a element from the\n",
        "# list using index number\n",
        "print(\"Accessing a element from the list\")\n",
        "print(List[0])\n",
        "print(List[2])\n",
        "# Creating a Multi-Dimensional List\n",
        "# (By Nesting a list inside a List)\n",
        "List = [['Geeks', 'For'], ['Geeks']]\n",
        "# accessing an element from the\n",
        "# Multi-Dimensional List using\n",
        "# index number\n",
        "print(\"Accessing a element from a Multi-Dimensional list\")\n",
        "print(List[0][1])\n",
        "print(List[1][0])"
      ],
      "metadata": {
        "id": "Wc65ShMvDdRo"
      },
      "execution_count": null,
      "outputs": []
    },
    {
      "cell_type": "markdown",
      "source": [
        "Negative indexing"
      ],
      "metadata": {
        "id": "rM2-2yxoDkvL"
      }
    },
    {
      "cell_type": "code",
      "source": [
        "List = [1, 2, 'Geeks', 4, 'For', 6, 'Geeks']\n",
        "# accessing an element using negative indexing\n",
        "print(\"Accessing element using negative indexing\")\n",
        "# print the last element of list\n",
        "print(List[-1])\n",
        "# print the third last element of list\n",
        "print(List[-3])"
      ],
      "metadata": {
        "id": "dNAksSq_Dlf1"
      },
      "execution_count": null,
      "outputs": []
    },
    {
      "cell_type": "markdown",
      "source": [
        "Removing Elements from the List\n",
        "Using remove() method"
      ],
      "metadata": {
        "id": "ZjHdHdXaDoU5"
      }
    },
    {
      "cell_type": "code",
      "source": [
        "# Python program to demonstrate\n",
        "# Removal of elements in a List\n",
        "# Creating a List\n",
        "List = [1, 2, 3, 4, 5, 6,\n",
        " 7, 8, 9, 10, 11, 12]\n",
        "print(\"Initial List: \")\n",
        "print(List)\n",
        "# Removing elements from List\n",
        "# using Remove() method\n",
        "List.remove(5)\n",
        "List.remove(6)\n",
        "print(\"\\nList after Removal of two elements: \")\n",
        "print(List)\n",
        "# Removing elements from List\n",
        "# using iterator method\n",
        "for i in range(1, 5):\n",
        " List.remove(i)\n",
        "print(\"\\nList after Removing a range of elements: \")\n",
        "print(List)"
      ],
      "metadata": {
        "id": "LASigl4LDr4L"
      },
      "execution_count": null,
      "outputs": []
    },
    {
      "cell_type": "markdown",
      "source": [
        "Using pop() method"
      ],
      "metadata": {
        "id": "0xrBJVV-Duxw"
      }
    },
    {
      "cell_type": "code",
      "source": [
        "List = [1,2,3,4,5]\n",
        "# Removing element from the\n",
        "# Set using the pop() method\n",
        "List.pop()\n",
        "print(\"\\nList after popping an element: \")\n",
        "print(List)\n",
        "# Removing element at a\n",
        "# specific location from the\n",
        "# Set using the pop() method\n",
        "List.pop(2)\n",
        "print(\"\\nList after popping a specific element: \")\n",
        "print(List)"
      ],
      "metadata": {
        "id": "7w5naM6XDxmp"
      },
      "execution_count": null,
      "outputs": []
    },
    {
      "cell_type": "markdown",
      "source": [
        "Slicing of a List"
      ],
      "metadata": {
        "id": "GCxSn2r9D332"
      }
    },
    {
      "cell_type": "code",
      "source": [
        "# Python program to demonstrate\n",
        "# Removal of elements in a List\n",
        "# Creating a List\n",
        "List = ['G', 'E', 'E', 'K', 'S', 'F',\n",
        " 'O', 'R', 'G', 'E', 'E', 'K', 'S']\n",
        " print(\"Initial List: \")\n",
        "print(List)\n",
        "# Print elements of a range\n",
        "# using Slice operation\n",
        "Sliced_List = List[3:8]\n",
        "print(\"\\nSlicing elements in a range 3-8: \")\n",
        "print(Sliced_List)\n",
        "# Print elements from a\n",
        "# pre-defined point to end\n",
        "Sliced_List = List[5:]\n",
        "print(\"\\nElements sliced from 5th \"\n",
        " \"element till the end: \")\n",
        "print(Sliced_List)\n",
        "# Printing elements from\n",
        "# beginning till end\n",
        "Sliced_List = List[:]\n",
        "print(\"\\nPrinting all elements using slice operation: \")\n",
        "print(Sliced_List)"
      ],
      "metadata": {
        "id": "qVfpIc27D4Vj"
      },
      "execution_count": null,
      "outputs": []
    },
    {
      "cell_type": "markdown",
      "source": [
        "Negative index List slicing"
      ],
      "metadata": {
        "id": "K3EBzsIOEIhg"
      }
    },
    {
      "cell_type": "code",
      "source": [
        "# Creating a List\n",
        "List = ['G', 'E', 'E', 'K', 'S', 'F',\n",
        " 'O', 'R', 'G', 'E', 'E', 'K', 'S']\n",
        "print(\"Initial List: \")\n",
        "print(List)\n",
        "# Print elements from beginning\n",
        "# to a pre-defined point using Slice\n",
        "Sliced_List = List[:-6]\n",
        "print(\"\\nElements sliced till 6th element from last: \")\n",
        "print(Sliced_List)\n",
        "# Print elements of a range\n",
        "# using negative index List slicing\n",
        "Sliced_List = List[-6:-1]\n",
        "print(\"\\nElements sliced from index -6 to -1\")\n",
        "print(Sliced_List)\n",
        "# Printing elements in reverse\n",
        "# using Slice operation\n",
        "Sliced_List = List[::-1]\n",
        "print(\"\\nPrinting List in reverse: \")\n",
        "print(Sliced_List)"
      ],
      "metadata": {
        "id": "NMO9nIAJEJPW"
      },
      "execution_count": null,
      "outputs": []
    },
    {
      "cell_type": "markdown",
      "source": [
        "List Comprehension"
      ],
      "metadata": {
        "id": "9yOYMOYOETRp"
      }
    },
    {
      "cell_type": "code",
      "source": [
        "# Python program to demonstrate list comprehension in Python\n",
        "# below list contains square of all odd numbers from range 1 to 10\n",
        "odd_square = [x ** 2 for x in range(1, 11) if x % 2 == 1]\n",
        "print(odd_square)\n",
        "# for understanding, above generation is same as,\n",
        "odd_square = []\n",
        "for x in range(1, 11):\n",
        " if x % 2 == 1:\n",
        " odd_square.append(x**2)\n",
        "print(odd_square)"
      ],
      "metadata": {
        "id": "j2D-h6tnEXeK"
      },
      "execution_count": null,
      "outputs": []
    },
    {
      "cell_type": "markdown",
      "source": [
        "Creating a Dictionary"
      ],
      "metadata": {
        "id": "hsl5oxmBEflw"
      }
    },
    {
      "cell_type": "code",
      "source": [
        "# Creating a Dictionary\n",
        "# with Integer Keys\n",
        "Dict = {1: 'Geeks', 2: 'For', 3: 'Geeks'}\n",
        "print(\"\\nDictionary with the use of Integer Keys: \")\n",
        "print(Dict)\n",
        "# Creating a Dictionary\n",
        "# with Mixed keys\n",
        "Dict = {'Name': 'Geeks', 1: [1, 2, 3, 4]}\n",
        "print(\"\\nDictionary with the use of Mixed Keys: \")\n",
        "print(Dict)\n",
        "Output:\n",
        "Dictionary with the use of Integer Keys:\n",
        "{1: 'Geeks', 2: 'For', 3: 'Geeks'}\n",
        "Dictionary with the use of Mixed Keys:\n",
        "{1: [1, 2, 3, 4], 'Name': 'Geeks'}\n",
        "# Creating an empty Dictionary\n",
        "Dict = {}\n",
        "print(\"Empty Dictionary: \")\n",
        "print(Dict)\n",
        "# Creating a Dictionary\n",
        "# with dict() method\n",
        "Dict = dict({1: 'Geeks', 2: 'For', 3:'Geeks'})\n",
        "print(\"\\nDictionary with the use of dict(): \")\n",
        "print(Dict)\n",
        "# Creating a Dictionary\n",
        "# with each item as a Pair\n",
        "Dict = dict([(1, 'Geeks'), (2, 'For')])\n",
        "print(\"\\nDictionary with each item as a pair: \")\n",
        "print(Dict)"
      ],
      "metadata": {
        "id": "C0jgLUGJEgU1"
      },
      "execution_count": null,
      "outputs": []
    },
    {
      "cell_type": "markdown",
      "source": [
        "Nested Dictionary"
      ],
      "metadata": {
        "id": "HIrgurKAEpTw"
      }
    },
    {
      "cell_type": "code",
      "source": [
        "# Creating a Nested Dictionary\n",
        "# as shown in the below image\n",
        "Dict = {1: 'Geeks', 2: 'For',\n",
        " 3:{'A' : 'Welcome', 'B' : 'To', 'C' : 'Geeks'}}\n",
        "print(Dict)\n"
      ],
      "metadata": {
        "id": "MAyrHzbAEqWe"
      },
      "execution_count": null,
      "outputs": []
    },
    {
      "cell_type": "markdown",
      "source": [
        "Adding elements to a Dictionary"
      ],
      "metadata": {
        "id": "HFWU3Ej8Euwe"
      }
    },
    {
      "cell_type": "code",
      "source": [
        "# Creating an empty Dictionary\n",
        "Dict = {}\n",
        "print(\"Empty Dictionary: \")\n",
        "print(Dict)\n",
        "# Adding elements one at a time\n",
        "Dict[0] = 'Geeks'\n",
        "Dict[2] = 'For'\n",
        "Dict[3] = 1\n",
        "print(\"\\nDictionary after adding 3 elements: \")\n",
        "print(Dict)\n",
        "# Adding set of values\n",
        "# to a single Key\n",
        "Dict['Value_set'] = 2, 3, 4\n",
        "print(\"\\nDictionary after adding 3 elements: \")\n",
        "print(Dict)\n",
        "# Updating existing Key's Value\n",
        "Dict[2] = 'Welcome'\n",
        "print(\"\\nUpdated key value: \")\n",
        "print(Dict)\n",
        "# Adding Nested Key value to Dictionary\n",
        "Dict[5] = {'Nested' :{'1' : 'Life', '2' : 'Geeks'}}\n",
        "print(\"\\nAdding a Nested Key: \")\n",
        "print(Dict)"
      ],
      "metadata": {
        "id": "YhnqmbVFEvWF"
      },
      "execution_count": null,
      "outputs": []
    },
    {
      "cell_type": "markdown",
      "source": [
        "Accessing elements from a Dictionary"
      ],
      "metadata": {
        "id": "H2Byei5YE6cW"
      }
    },
    {
      "cell_type": "code",
      "source": [
        "# Python program to demonstrate\n",
        "# accessing a element from a Dictionary\n",
        "# Creating a Dictionary\n",
        "Dict = {1: 'Geeks', 'name': 'For', 3: 'Geeks'}\n",
        "# accessing a element using key\n",
        "print(\"Accessing a element using key:\")\n",
        "print(Dict['name'])\n",
        "# accessing a element using key\n",
        "print(\"Accessing a element using key:\")\n",
        "print(Dict[1])\n",
        "# Creating a Dictionary\n",
        "Dict = {1: 'Geeks', 'name': 'For', 3: 'Geeks'}\n",
        "# accessing a element using get()\n",
        "# method\n",
        "print(\"Accessing a element using get:\")\n",
        "print(Dict.get(3))"
      ],
      "metadata": {
        "id": "C0QUmJ2hE7D3"
      },
      "execution_count": null,
      "outputs": []
    },
    {
      "cell_type": "markdown",
      "source": [
        "Accessing an element of a nested dictionary"
      ],
      "metadata": {
        "id": "-GJYCxMQFBVN"
      }
    },
    {
      "cell_type": "code",
      "source": [
        "# Creating a Dictionary\n",
        "Dict = {'Dict1': {1: 'Geeks'},\n",
        " 'Dict2': {'Name': 'For'}}\n",
        "# Accessing element using key\n",
        "print(Dict['Dict1'])\n",
        "print(Dict['Dict1'][1])\n",
        "print(Dict['Dict2']['Name'])"
      ],
      "metadata": {
        "id": "P87VHowIFEb0"
      },
      "execution_count": null,
      "outputs": []
    },
    {
      "cell_type": "markdown",
      "source": [
        "Removing Elements from Dictionary\n",
        "Using del keyword"
      ],
      "metadata": {
        "id": "y5_8rVkxFK7u"
      }
    },
    {
      "cell_type": "code",
      "source": [
        "# Initial Dictionary\n",
        "Dict = { 5 : 'Welcome', 6 : 'To', 7 : 'Geeks',\n",
        " 'A' : {1 : 'Geeks', 2 : 'For', 3 : 'Geeks'},\n",
        " 'B' : {1 : 'Geeks', 2 : 'Life'}}\n",
        "print(\"Initial Dictionary: \")\n",
        "print(Dict)\n",
        "# Deleting a Key value\n",
        "del Dict[6]\n",
        "print(\"\\nDeleting a specific key: \")\n",
        "print(Dict)\n",
        "# Deleting a Key from\n",
        "# Nested Dictionary\n",
        "del Dict['A'][2]\n",
        "print(\"\\nDeleting a key from Nested Dictionary: \")\n",
        "print(Dict)"
      ],
      "metadata": {
        "id": "TtLkUfyhFObB"
      },
      "execution_count": null,
      "outputs": []
    },
    {
      "cell_type": "markdown",
      "source": [
        "Using pop() method"
      ],
      "metadata": {
        "id": "XimdWGhYFW8I"
      }
    },
    {
      "cell_type": "code",
      "source": [
        "# Creating a Dictionary\n",
        "Dict = {1: 'Geeks', 'name': 'For', 3: 'Geeks'}\n",
        "# Deleting a key\n",
        "# using pop() method\n",
        "pop_ele = Dict.pop(1)\n",
        "print('\\nDictionary after deletion: ' + str(Dict))\n",
        "print('Value associated to poped key is: ' + str(pop_ele))"
      ],
      "metadata": {
        "id": "e_wPtGnhFYJk"
      },
      "execution_count": null,
      "outputs": []
    },
    {
      "cell_type": "markdown",
      "source": [
        "Using popitem() method"
      ],
      "metadata": {
        "id": "HaCO1gNAFbf6"
      }
    },
    {
      "cell_type": "code",
      "source": [
        "# Creating Dictionary\n",
        "Dict = {1: 'Geeks', 'name': 'For', 3: 'Geeks'}\n",
        "# Deleting an arbitrary key\n",
        "# using popitem() function\n",
        "pop_ele = Dict.popitem()\n",
        "print(\"\\nDictionary after deletion: \" + str(Dict))\n",
        "print(\"The arbitrary pair returned is: \" + str(pop_ele))"
      ],
      "metadata": {
        "id": "2J-PNOMIFeW0"
      },
      "execution_count": null,
      "outputs": []
    },
    {
      "cell_type": "markdown",
      "source": [
        "Using clear() method"
      ],
      "metadata": {
        "id": "V-N_0T4tFlMi"
      }
    },
    {
      "cell_type": "code",
      "source": [
        "# Creating a Dictionary\n",
        "Dict = {1: 'Geeks', 'name': 'For', 3: 'Geeks'}\n",
        "# Deleting entire Dictionary\n",
        "Dict.clear()\n",
        "print(\"\\nDeleting Entire Dictionary: \")\n",
        "print(Dict)"
      ],
      "metadata": {
        "id": "Bf1AqqJ4FmCW"
      },
      "execution_count": null,
      "outputs": []
    },
    {
      "cell_type": "markdown",
      "source": [
        "Solved Lab Activity 1"
      ],
      "metadata": {
        "id": "12DiZAtmGEU6"
      }
    },
    {
      "cell_type": "code",
      "source": [
        "myList1=[]\n",
        "print(\"Enter objects of first list...\")\n",
        "for i in range(5):\n",
        "    val=input(\"Enter a value:\")\n",
        "    n=int(val)\n",
        "    myList1.append(n)\n",
        "\n",
        "myList2=[]\n",
        "print(\"Enter objects of second list...\")\n",
        "for i in range(5):\n",
        "    val=input(\"Enter a value:\")\n",
        "    n=int(val)\n",
        "    myList2.append(n)\n",
        "\n",
        "list3=myList1+myList2;\n",
        "print(list3)"
      ],
      "metadata": {
        "id": "cMPkqFKEGH8E"
      },
      "execution_count": null,
      "outputs": []
    },
    {
      "cell_type": "markdown",
      "source": [
        "activity 2"
      ],
      "metadata": {
        "id": "eUO0MaZrHKDN"
      }
    },
    {
      "cell_type": "code",
      "source": [
        "def isPalindrome(word):\n",
        "    temp=word[::-1]\n",
        "    if temp.capitalize()==word.capitalize():\n",
        "        return True\n",
        "    else:\n",
        "        return False\n",
        "\n",
        "print(isPalindrome('deed'))"
      ],
      "metadata": {
        "id": "B379Fdz0HLxp"
      },
      "execution_count": null,
      "outputs": []
    },
    {
      "cell_type": "markdown",
      "source": [
        "activity 3"
      ],
      "metadata": {
        "id": "rWPGzzFoHL-i"
      }
    },
    {
      "cell_type": "code",
      "source": [
        "for indrow in range(3):\n",
        "    c.append([])\n",
        "    for indcol in range(3):\n",
        "        c[indrow].append(0)\n",
        "        for indaux in range(3):\n",
        "            c[indrow][indcol] += a[indrow][indaux] * b[indcol][indaux]\n",
        "\n",
        "print(c)"
      ],
      "metadata": {
        "id": "Pdon6DFGHNWP"
      },
      "execution_count": null,
      "outputs": []
    },
    {
      "cell_type": "markdown",
      "source": [
        "activity 4"
      ],
      "metadata": {
        "id": "bItohdf4HNee"
      }
    },
    {
      "cell_type": "code",
      "source": [
        "def perimeter(listing):\n",
        "    leng=len(listing)\n",
        "    perimeter=0\n",
        "    for i in range(0,leng-1):\n",
        "        dist = (((listing[i][0]-listing[i+1][0])*2)+((listing[i][1]-listing[i+1][1])2))*0.5\n",
        "        perimeter = perimeter + dist\n",
        "    perimeter = perimeter + (((listing[0][0]-listing[leng-1][0])*2)+((listing[0][1]-listing[leng-1][1])2))*0.5\n",
        "    return perimeter\n",
        "\n",
        "L = [(1,3), (2,7), (3,9), (-1,8)]\n",
        "print(perimeter(L))"
      ],
      "metadata": {
        "id": "4Rx_keZ6HO_9"
      },
      "execution_count": null,
      "outputs": []
    },
    {
      "cell_type": "markdown",
      "source": [
        "activity 5"
      ],
      "metadata": {
        "id": "zvQiTJVpHPIJ"
      }
    },
    {
      "cell_type": "code",
      "source": [
        "def symmDiff(a, b):\n",
        "    e = set()  # Empty set\n",
        "    for i in a:  # For loop used to access in a\n",
        "        if i not in b:\n",
        "            e.add(i)\n",
        "    for i in b:  # For loop used to access in b\n",
        "        if i not in a:\n",
        "            e.add(i)\n",
        "    return e\n",
        "\n",
        "set1 = {0, 1, 2, 4, 5}\n",
        "set2 = {4, 5, 6, 7, 8}\n",
        "print(symmDiff(set1, set2))\n",
        "\n",
        "# Verification using inbuilt function\n",
        "print(set1.symmetric_difference(set2))\n",
        "print(set2.symmetric_difference(set1))\n",
        "print(set1 ^ set2)\n",
        "print(set2 ^ set1"
      ],
      "metadata": {
        "id": "lL95PNzFHQ0B"
      },
      "execution_count": null,
      "outputs": []
    },
    {
      "cell_type": "markdown",
      "source": [
        "activity 6"
      ],
      "metadata": {
        "id": "u5a-C1xVHRAv"
      }
    },
    {
      "cell_type": "code",
      "source": [
        "sample = {('sohaib', 'ali'): \"0246585468445\", ('aib', 'li'): \"024658546845\"}\n",
        "\n",
        "firstName = input(\"Enter first name: \")\n",
        "lastName = input(\"Enter last name: \")\n",
        "\n",
        "searchTuple = (firstName, lastName)\n",
        "if searchTuple in sample:\n",
        "    print(sample[searchTuple])\n",
        "else:\n",
        "    print('name not found')"
      ],
      "metadata": {
        "id": "Ku8FhRR5HSbW"
      },
      "execution_count": null,
      "outputs": []
    }
  ]
}